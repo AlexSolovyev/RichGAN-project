{
 "cells": [
  {
   "cell_type": "code",
   "execution_count": null,
   "metadata": {
    "collapsed": true
   },
   "outputs": [],
   "source": [
    "import numpy as np\n",
    "import pandas as pd"
   ]
  },
  {
   "cell_type": "code",
   "execution_count": null,
   "metadata": {
    "collapsed": true
   },
   "outputs": [],
   "source": [
    "# считывание данных\n",
    "\n",
    "df_pion = pd.read_csv('data/v1_pion_train.csv')\n",
    "df_kaon = pd.read_csv('data/v1_kaon_train.csv')\n",
    "df_electron = pd.read_csv('data/v1_electron_train.csv')\n",
    "df_ghost = pd.read_csv('data/v1_ghost_train.csv')\n",
    "df_muon = pd.read_csv('data/v1_muon_train.csv')\n",
    "df_proton = pd.read_csv('data/v1_proton_train.csv')"
   ]
  },
  {
   "cell_type": "code",
   "execution_count": null,
   "metadata": {
    "collapsed": true
   },
   "outputs": [],
   "source": [
    "x_cols = ['TrackP', 'TrackEta', 'NumLongTracks']\n",
    "y_cols = ['RichDLLbt', 'RichDLLk', 'RichDLLmu', 'RichDLLp', 'RichDLLe']"
   ]
  },
  {
   "cell_type": "code",
   "execution_count": null,
   "metadata": {
    "collapsed": true
   },
   "outputs": [],
   "source": [
    "class GAN():\n",
    "    def __init__(self):\n",
    "        self.RichDLL_count = 3\n",
    "        self.features = 5\n",
    "        optimizer = Adam(0.0002, 0.5)\n",
    "        \n",
    "        self.generator = self.build_generator()\n",
    "        self.discriminator = self.build_discriminator(loss='binary_crossentropy',\n",
    "                                                      optimizer=optimizer,\n",
    "                                                      metrics=['accuracy'])\n",
    "        noise = Input(shape=(self.latent_dim,))\n",
    "        \n",
    "        def build_generator(self):\n",
    "            model = Sequential()\n",
    "            model.add(Dense(128, input_dim=self.latent_dim))\n",
    "            model.add(LeakyReLU(alpha=0.1))\n",
    "            model.add(BatchNormalization(momentum=0.8))\n",
    "            model.add(Dense(3, activation='tanh'))\n",
    "            \n",
    "            model.summary()\n",
    "\n",
    "            noise = Input(shape=(self.features,))\n",
    "            RichDLLs = model(noise)\n",
    "            return Model(noise, RichDLLs)\n",
    "        \n",
    "        def build_discriminator(self):\n",
    "            model = Sequential()\n",
    "            model.add(Dense(128))\n",
    "            model.add(LeakyReLU(alpha=0.1))\n",
    "            model.add(Dense(1, activation='sigmoid'))\n",
    "            \n",
    "            model.summary()\n",
    "\n",
    "            RichDLLs = Input(shape=self.RichDLL_count)\n",
    "            validity = model(RichDLLs)\n",
    "            return Model(RichDLLs, validity)\n",
    "        \n",
    "        def train(self, epochs, batch_size=128, sample_interval=50):\n",
    "            #Load the dataset\n",
    "            for epoch in range(epochs):\n",
    "                gen_RichDLLs = self.generator.predict(noise)\n",
    "if __name__ == '__main__':\n",
    "    gan = GAN()\n",
    "    gan.train(epochs=30000, batch_size=32, sample_interval=200)"
   ]
  },
  {
   "cell_type": "markdown",
   "metadata": {},
   "source": [
    "## Cramer GAN"
   ]
  },
  {
   "cell_type": "code",
   "execution_count": null,
   "metadata": {
    "collapsed": true
   },
   "outputs": [],
   "source": []
  }
 ],
 "metadata": {
  "kernelspec": {
   "display_name": "Python 3",
   "language": "python",
   "name": "python3"
  },
  "language_info": {
   "codemirror_mode": {
    "name": "ipython",
    "version": 3
   },
   "file_extension": ".py",
   "mimetype": "text/x-python",
   "name": "python",
   "nbconvert_exporter": "python",
   "pygments_lexer": "ipython3",
   "version": "3.6.0"
  }
 },
 "nbformat": 4,
 "nbformat_minor": 2
}
